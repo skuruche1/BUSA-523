{
 "cells": [
  {
   "cell_type": "code",
   "execution_count": 2,
   "id": "1e7e4c7f",
   "metadata": {},
   "outputs": [
    {
     "name": "stdout",
     "output_type": "stream",
     "text": [
      "Hello World!\n"
     ]
    }
   ],
   "source": [
    "print(\"Hello World!\")"
   ]
  },
  {
   "cell_type": "code",
   "execution_count": 8,
   "id": "282de715",
   "metadata": {},
   "outputs": [
    {
     "name": "stdout",
     "output_type": "stream",
     "text": [
      "1\n"
     ]
    }
   ],
   "source": [
    "import random\n",
    "choices = [\"heads\",\"tails\"]\n",
    "\n",
    "def count_streaks(flips):\n",
    "    streaks, current_streak, current_count = 0,flips[0],0\n",
    "    for i in range(len(flips)):\n",
    "        if flips[i]==current_streak:\n",
    "            current_count+=1\n",
    "    else:\n",
    "        if current_count>=5:\n",
    "            streaks+=1\n",
    "        current_streak, current_count = flips[i],1 #updating current\n",
    "    return streaks\n",
    "\n",
    "flips = random.choices(choices,k=10000)\n",
    "print(count_streaks(flips))\n"
   ]
  },
  {
   "cell_type": "code",
   "execution_count": 9,
   "id": "148d277f",
   "metadata": {},
   "outputs": [
    {
     "name": "stdout",
     "output_type": "stream",
     "text": [
      "Enter the number of swords:5\n",
      "Enter the number of diamonds:10\n",
      "Enter the number of gold coins:6\n",
      "Enter the number of rope:3\n",
      "Enter the number of potions:2\n",
      "swords 5\n",
      "diamonds 10\n",
      "gold coins 6\n",
      "rope 3\n",
      "potions 2\n"
     ]
    }
   ],
   "source": [
    "items = [\"swords\",\"diamonds\",\"gold coins\",\"rope\",\"potions\"]\n",
    "inventory = {}\n",
    "\n",
    "\n",
    "for item in items: \n",
    "    inventory[item] = int(input('Enter the number of {}:'.format(item)))\n",
    "    \n",
    "    \n",
    "for item,cnt in inventory.items():\n",
    "    print(item,cnt)"
   ]
  },
  {
   "cell_type": "code",
   "execution_count": 17,
   "id": "646ff406",
   "metadata": {},
   "outputs": [
    {
     "name": "stdout",
     "output_type": "stream",
     "text": [
      "<class 'numpy.ndarray'>\n"
     ]
    }
   ],
   "source": [
    "import random\n",
    "choices = [\"heads\",\"tails\"]\n",
    "\n",
    "def count_streaks(flips):\n",
    "    streaks, current_streak, current_count = 0,flips[0],0\n",
    "    for i in range(len(flips)):\n",
    "        if flips[i]==current_streak:\n",
    "            current_count+=1\n",
    "    else:\n",
    "        if current_count>=5:\n",
    "            streaks+=1\n",
    "        current_streak, current_count = flips[i],1 #updating current\n",
    "    return streaks\n",
    "\n",
    "flips = random.choices(choices,k=10000)\n",
    "\n",
    "import numpy as np\n",
    "\n",
    "final_flips = np.array(flips)\n",
    "\n",
    "print(type(final_flips)) "
   ]
  },
  {
   "cell_type": "code",
   "execution_count": 14,
   "id": "c7edeffc",
   "metadata": {},
   "outputs": [
    {
     "name": "stdout",
     "output_type": "stream",
     "text": [
      "Winner of the game is Player 2\n"
     ]
    }
   ],
   "source": [
    "import random\n",
    "\n",
    "num_iterations, num_players = 10,3\n",
    "\n",
    "scores = [0]*num_players #initalizing scores to 0\n",
    "\n",
    "for i in range(num_iterations):\n",
    "    #every player has to throw the dice\n",
    "    for player in range(num_players):\n",
    "        scores[player]+=random.randint(1,6)#adding current outcome to player score\n",
    "        \n",
    "winner = max(enumerate(scores),key=lambda scores:scores[1])[0] + 1 #adding 1 becasue index starts from 0\n",
    "\n",
    "print('Winner of the game is Player {}'.format(winner))"
   ]
  }
 ],
 "metadata": {
  "kernelspec": {
   "display_name": "Python 3 (ipykernel)",
   "language": "python",
   "name": "python3"
  },
  "language_info": {
   "codemirror_mode": {
    "name": "ipython",
    "version": 3
   },
   "file_extension": ".py",
   "mimetype": "text/x-python",
   "name": "python",
   "nbconvert_exporter": "python",
   "pygments_lexer": "ipython3",
   "version": "3.9.7"
  }
 },
 "nbformat": 4,
 "nbformat_minor": 5
}
