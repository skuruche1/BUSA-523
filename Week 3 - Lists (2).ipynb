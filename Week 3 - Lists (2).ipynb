{
 "cells": [
  {
   "cell_type": "markdown",
   "id": "4bd9a677",
   "metadata": {},
   "source": [
    "# BUSA 523 \n",
    "\n",
    "## Week 3 - Lists"
   ]
  },
  {
   "cell_type": "markdown",
   "id": "e6471eec",
   "metadata": {},
   "source": [
    "#### Before lists, one more thing about variable assignment\n",
    "\n",
    "| Augmented assignment statement | Equivalent assignment statement |\n",
    "|--------------------------------|---------------------------------|\n",
    "| spam += 1                      | spam = spam + 1                 |\n",
    "| spam -= 1                      | spam = spam - 1                 |\n",
    "| spam *= 1                      | spam = spam * 1                 |\n",
    "| spam /= 1                      | spam = spam / 1                 |\n",
    "| spam %= 1                      | spam = spam % 1                 |"
   ]
  },
  {
   "cell_type": "code",
   "execution_count": null,
   "id": "6b35e5af",
   "metadata": {},
   "outputs": [],
   "source": [
    "# Example of augmented assignment statements\n"
   ]
  },
  {
   "cell_type": "markdown",
   "id": "dbc0a1c4",
   "metadata": {},
   "source": [
    "\n",
    "Lists and tuples can contain **multiple values**, which makes writing programs that handle large amounts of data easier. And since lists themselves can contain *other lists*, you can use them to arrange data into **hierarchical structures**.\n",
    "\n",
    "A **list** is a collection of items, that is stored in a variable. In python, **square brackets** desingate a list.\n",
    "\n",
    "\n",
    "- The *first value* in the list is at index **0**, the *second value* is at index **1**, the *third value* is at index **2**, and so on.\n",
    "- Python will give you an **IndexError error** message if you use an index that exceeds the number of values in your list value.\n",
    "- Indexes can be only integer values, not floats. \n",
    "- The integer value **-1** refers to the *last index* in a list, the value **-2** refers to the *second-to-last index* in a list, and so on."
   ]
  },
  {
   "cell_type": "code",
   "execution_count": null,
   "id": "88680884",
   "metadata": {},
   "outputs": [],
   "source": [
    "# Example of list and how to access the items within it.\n"
   ]
  },
  {
   "cell_type": "markdown",
   "id": "2c368e91",
   "metadata": {},
   "source": [
    "### List operations\n",
    "\n",
    "#### Slice\n",
    "\n",
    "Just as an index can get a single value from a list, a **slice** can get several values from a list, in the form of a new list.\n",
    "\n",
    "**names[1:4]**\n",
    "\n",
    "In a slice, the first integer is the index where the slice starts. The second integer is the index where the slice ends. A slice goes up to, but will not include, the value at the second index. A slice evaluates to a new list value. \n",
    "\n"
   ]
  },
  {
   "cell_type": "code",
   "execution_count": null,
   "id": "74e455fb",
   "metadata": {},
   "outputs": [],
   "source": [
    "# Example of slices\n"
   ]
  },
  {
   "cell_type": "markdown",
   "id": "400e272c",
   "metadata": {},
   "source": [
    "#### len() - will return number of values in a lsit\n",
    "\n",
    "\n",
    "\n"
   ]
  },
  {
   "cell_type": "code",
   "execution_count": null,
   "id": "853b3c74",
   "metadata": {},
   "outputs": [],
   "source": [
    "# Example of len()\n"
   ]
  },
  {
   "cell_type": "markdown",
   "id": "73a6cb9f",
   "metadata": {},
   "source": [
    "#### Editing lists\n",
    "\n",
    "A **method** is the same thing as a function, except it is *“called on”* a **value**.\n",
    "\n",
    "removing values - **del   list[index]**, **list.remove(*value*)**, **list.pop(*index*)**\n",
    "\n",
    "adding values - **insert()**, **append()**\n",
    "\n",
    "Others:\n",
    "- **sort()** \n",
    "- **reverse()** "
   ]
  },
  {
   "cell_type": "code",
   "execution_count": null,
   "id": "36840816",
   "metadata": {},
   "outputs": [],
   "source": [
    "# Example of removing values\n",
    "\n",
    "# Example of adding values\n",
    "\n",
    "# Example of sort & reverse\n"
   ]
  },
  {
   "cell_type": "markdown",
   "id": "ace06f38",
   "metadata": {},
   "source": [
    "#### List Concatenation and Replication\n",
    "\n",
    "Lists can be concatenated and replicated just like strings. The **+** operator *combines two lists* to create a new list value and the *  operator can be used with a list and an integer value to *replicate the list*."
   ]
  },
  {
   "cell_type": "code",
   "execution_count": null,
   "id": "99875163",
   "metadata": {},
   "outputs": [],
   "source": [
    "# Example of list concatenation and replication\n"
   ]
  },
  {
   "cell_type": "markdown",
   "id": "ab8f54ae",
   "metadata": {},
   "source": [
    "#### In and Not In Operators\n",
    "\n",
    "You can determine whether a value is or isn’t in a list with the in and not in operators. \n",
    "\n",
    "Like other operators, in and not in are used in expressions and connect two values: a value to look for in a list and the list where it may be found. These expressions will evaluate to a **Boolean value**."
   ]
  },
  {
   "cell_type": "code",
   "execution_count": null,
   "id": "6d800fca",
   "metadata": {},
   "outputs": [],
   "source": [
    "# Example with In and Not In Operators\n"
   ]
  },
  {
   "cell_type": "code",
   "execution_count": null,
   "id": "c0a97213",
   "metadata": {},
   "outputs": [],
   "source": [
    "# Example with Using loops in lists\n"
   ]
  },
  {
   "cell_type": "code",
   "execution_count": null,
   "id": "155aedf2",
   "metadata": {},
   "outputs": [],
   "source": [
    "# Multiple assignment trick\n"
   ]
  },
  {
   "cell_type": "markdown",
   "id": "f27d8a9a",
   "metadata": {},
   "source": [
    "### Lists functions\n",
    "\n",
    "#### enumerate()\n",
    "#### random.choice(); random.shuffle()"
   ]
  },
  {
   "cell_type": "code",
   "execution_count": null,
   "id": "6817d50d",
   "metadata": {},
   "outputs": [],
   "source": [
    "# Example of list functions\n"
   ]
  },
  {
   "cell_type": "markdown",
   "id": "af372391",
   "metadata": {},
   "source": [
    "Lists aren’t the only data types that represent ordered sequences of values. For example, strings and lists are actually similar if you consider a string to be a “list” of single text characters. \n",
    "\n",
    "Many of the things you can do with lists can also be done with strings and other values of sequence types: indexing; slicing; and using them with for loops, with len(), and with the in and not in operators. \n",
    "\n",
    "**But lists and strings are different in an important way. A list value is a mutable data type: it can have values added, removed, or changed. However, a string is immutable: it cannot be changed.**"
   ]
  },
  {
   "cell_type": "code",
   "execution_count": null,
   "id": "91e9509f",
   "metadata": {},
   "outputs": [],
   "source": [
    "# Example of passing references in lists\n"
   ]
  },
  {
   "cell_type": "markdown",
   "id": "897ba402",
   "metadata": {},
   "source": [
    "### Tuples\n",
    "\n",
    "The tuple data type is almost identical to the list data type, except in two ways. First, tuples are typed with parentheses, **( and )**, instead of square brackets, [ and ]. Second, they are **immutable**."
   ]
  },
  {
   "cell_type": "code",
   "execution_count": null,
   "id": "e2325e52",
   "metadata": {},
   "outputs": [],
   "source": [
    "# Example of tuples\n"
   ]
  },
  {
   "cell_type": "code",
   "execution_count": null,
   "id": "aa5e45ad",
   "metadata": {},
   "outputs": [],
   "source": [
    "# Converting Types with the list() and tuple()\n"
   ]
  }
 ],
 "metadata": {
  "kernelspec": {
   "display_name": "Python 3 (ipykernel)",
   "language": "python",
   "name": "python3"
  },
  "language_info": {
   "codemirror_mode": {
    "name": "ipython",
    "version": 3
   },
   "file_extension": ".py",
   "mimetype": "text/x-python",
   "name": "python",
   "nbconvert_exporter": "python",
   "pygments_lexer": "ipython3",
   "version": "3.9.7"
  }
 },
 "nbformat": 4,
 "nbformat_minor": 5
}
