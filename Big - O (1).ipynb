{
 "cells": [
  {
   "cell_type": "markdown",
   "id": "5cb9f1dc",
   "metadata": {},
   "source": [
    "# BUSA 523 - Week 4\n",
    "\n",
    "\n",
    "## Determing the Big \"O\" for your code\n",
    "\n",
    "**Big-0 Notation** - statistical measure to describle the complexity of the algorithm\n",
    "\n"
   ]
  },
  {
   "cell_type": "code",
   "execution_count": null,
   "id": "26297b22",
   "metadata": {
    "scrolled": true
   },
   "outputs": [],
   "source": [
    "# Using timeit to find the time taken by a function\n"
   ]
  },
  {
   "cell_type": "markdown",
   "id": "716ac0ee",
   "metadata": {},
   "source": [
    "#### Relationship between input and steps taken by the algorithm to complete its execution\n",
    "\n",
    "- Time Complexity\n",
    "- Space Complexity\n",
    "\n",
    "\n",
    "|   Big O  |  Complexity | Description                                                                                                                                                                                                                                                                                                                        |\n",
    "|:--------:|:-----------:|------------------------------------------------------------------------------------------------------------------------------------------------------------------------------------------------------------------------------------------------------------------------------------------------------------------------------------|\n",
    "|   O(1)   |   constant  | The runtime is constant regardless of the size of the input. Finding an element in a hash table is an example of an operation that can be performed in constant time.                                                                                                                                                              |\n",
    "|   O(n)   |    linear   | The runtime grows linearly with the size of the input. A function that checks a condition on every item of a list is an example of an O(n) algorithm.                                                                                                                                                                              |\n",
    "|   O(n2)  |  quadratic  | The runtime is a quadratic function of the size of the input. A naive implementation of finding duplicate values in a list, in which each item has to be checked twice, is an example of a quadratic algorithm.                                                                                                                    |\n",
    "|   O(2n)  | exponential | The runtime grows exponentially with the size of the input. These algorithms are considered extremely inefficient. An example of an exponential algorithm is the three-coloring problem.                                                                                                                                           |\n",
    "| O(log n) | logarithmic | The runtime grows linearly while the size of the input grows exponentially. For example, if it takes one second to process one thousand elements, then it will take two seconds to process ten thousand, three seconds to process one hundred thousand, and so on. Binary search is an example of a logarithmic runtime algorithm. |"
   ]
  },
  {
   "cell_type": "markdown",
   "id": "c8d0a662",
   "metadata": {},
   "source": [
    "#### Steps:\n",
    "- identify n\n",
    "- count the steps in the code\n",
    "- drop the lower orders\n",
    "- drop the coefficients.\n",
    "\n",
    "\n",
    "#### n represents the size of the input data that the code works on. In functions, the n is almost always based on a parameter. \n",
    "#### What counts as a STEP is somewhat vague, but a line of code is a good rule to follow. Loops will have as many steps as the number of iterations multiplied by the lines of code in the loop.\n",
    "\n"
   ]
  },
  {
   "cell_type": "code",
   "execution_count": null,
   "id": "60b6d6cc",
   "metadata": {},
   "outputs": [],
   "source": [
    "# Inputs\n"
   ]
  },
  {
   "cell_type": "code",
   "execution_count": null,
   "id": "3f297c36",
   "metadata": {},
   "outputs": [],
   "source": [
    "# Example 1\n"
   ]
  },
  {
   "cell_type": "code",
   "execution_count": null,
   "id": "00b5525e",
   "metadata": {},
   "outputs": [],
   "source": [
    "# Example 2\n"
   ]
  },
  {
   "cell_type": "code",
   "execution_count": null,
   "id": "1327bb5d",
   "metadata": {},
   "outputs": [],
   "source": [
    "# Example 3\n"
   ]
  },
  {
   "cell_type": "markdown",
   "id": "e7abee01",
   "metadata": {},
   "source": [
    "## Analyzing Big O at a Glance:\n",
    "Once you’ve become familiar with performing big O analysis, you usually won’t need to run through each of the steps. After a while you’ll be able to just look for some telltale features in the code to quickly determine the big O order.\n",
    "\n",
    "Keeping in mind that n is the size of the data the code operates on, here are some general rules you can use:\n",
    "\n",
    "- If the code doesn’t access any of the data, it’s O(1).\n",
    "- If the code loops over the data, it’s O(n).\n",
    "- If the code has two nested loops that each iterate over the data, it’s O(n2).\n",
    "- Function calls don’t count as one step but rather the total steps of the code inside the function.\n",
    "- If the code has a DIVIDE AND CONQUER step that repeatedly halves the data, it’s O(log n).\n",
    "- If the code has a DIVIDE AND CONQUER step that is done once per item in the data, it’s an O(n log n).\n",
    "- If the code goes through every possible combination of values in the n data, it’s O(2n), or some other exponential order.\n",
    "- If the code goes through every possible permutation (that is, ordering) of the values in the data, it’s O(n!).\n",
    "- If the code involves sorting the data, it will be at least O(n log n)."
   ]
  },
  {
   "cell_type": "markdown",
   "id": "fe2b1c63",
   "metadata": {},
   "source": [
    "#### Go programming language designer Rob Pike has five rules about programming, one of which is: “Fancy algorithms are slow when ‘n’ is small, and ‘n’ is usually small.” Most software developers won’t be dealing with massive data centers or complex calculations but rather more mundane programs. In these circumstances, running your code under a profiler will yield more concrete information about the code’s performance than big O analysis."
   ]
  }
 ],
 "metadata": {
  "kernelspec": {
   "display_name": "Python 3 (ipykernel)",
   "language": "python",
   "name": "python3"
  },
  "language_info": {
   "codemirror_mode": {
    "name": "ipython",
    "version": 3
   },
   "file_extension": ".py",
   "mimetype": "text/x-python",
   "name": "python",
   "nbconvert_exporter": "python",
   "pygments_lexer": "ipython3",
   "version": "3.9.7"
  }
 },
 "nbformat": 4,
 "nbformat_minor": 5
}
