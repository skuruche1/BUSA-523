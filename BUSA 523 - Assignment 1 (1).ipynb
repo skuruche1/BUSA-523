{
 "cells": [
  {
   "cell_type": "code",
   "execution_count": 1,
   "id": "4e06de2f",
   "metadata": {},
   "outputs": [
    {
     "name": "stdout",
     "output_type": "stream",
     "text": [
      "Hello World!\n"
     ]
    }
   ],
   "source": [
    "print (\"Hello World!\")"
   ]
  },
  {
   "cell_type": "code",
   "execution_count": 3,
   "id": "4937cde8",
   "metadata": {},
   "outputs": [
    {
     "name": "stdout",
     "output_type": "stream",
     "text": [
      "You will get 5 attempts to guess the number between 1 and 20.\n",
      "Attempt  1: 6\n",
      "Attempt  2: 5\n",
      "Attempt  3: 8\n",
      "Attempt  4: 11\n",
      "Attempt  5: 17\n",
      "You are incorrect\n"
     ]
    }
   ],
   "source": [
    "import random \n",
    "\n",
    "number = random.randint (1,20)\n",
    "guessed = 0\n",
    "print(\"You will get 5 attempts to guess the number between 1 and 20.\")\n",
    "while True:\n",
    "    guessed += 1\n",
    "    print(\"Attempt \", guessed, end=\": \")\n",
    "    guess = int(input())\n",
    "    if guess == number:\n",
    "        print(\"You are correct\")\n",
    "        break\n",
    "    if guessed == 5:\n",
    "        print(\"You are incorrect\")\n",
    "        break"
   ]
  },
  {
   "cell_type": "code",
   "execution_count": 4,
   "id": "dc7198de",
   "metadata": {},
   "outputs": [
    {
     "name": "stdout",
     "output_type": "stream",
     "text": [
      "You will get 5 attempts to guess the number between 1 and 20.\n",
      "Attempt  1: 4\n",
      "Guess should be higher\n",
      "Attempt  2: 7\n",
      "Guess should be higher\n",
      "Attempt  3: 10\n",
      "Guess should be higher\n",
      "Attempt  4: 15\n",
      "Guess should be lower\n",
      "Attempt  5: 13\n",
      "Guess should be lower\n",
      "You are incorrect\n"
     ]
    }
   ],
   "source": [
    "import random\n",
    "\n",
    "number = random.randint(1, 20)\n",
    "guessed = 0\n",
    "print(\"You will get 5 attempts to guess the number between 1 and 20.\")\n",
    "while True:\n",
    "    guessed += 1\n",
    "    print(\"Attempt \", guessed, end=\": \")\n",
    "    guess = int(input())\n",
    "    if guess < number: \n",
    "        print(\"Guess should be higher\")\n",
    "    if guess > number:\n",
    "        print(\"Guess should be lower\")\n",
    "    if guess == number:\n",
    "        print(\"You are correct\")\n",
    "        break\n",
    "    if guessed == 5:\n",
    "        print(\"You are incorrect\")\n",
    "        break"
   ]
  },
  {
   "cell_type": "code",
   "execution_count": 14,
   "id": "7aed0fae",
   "metadata": {},
   "outputs": [
    {
     "name": "stdout",
     "output_type": "stream",
     "text": [
      "Select \n",
      " 1. Rock \n",
      " 2. Paper \n",
      " 3. Scissors \n",
      " 4. Lizard \n",
      " 5. Spock\n",
      "Enter your pick: 5\n",
      "Your Choice:  5\n",
      "Computer's Choice:  1\n",
      "You Won\n"
     ]
    }
   ],
   "source": [
    "import random\n",
    "\n",
    "\n",
    "print(\"Select \\n 1. Rock \\n 2. Paper \\n 3. Scissors \\n 4. Lizard \\n 5. Spock\")\n",
    "user_Pick = int(input(\"Enter your pick: \"))\n",
    "while user_Pick > 5 or user_Pick < 1:\n",
    "    user_Pick = int(input(\"Re-Enter your pick: \"))\n",
    "computer_Pick = random.randint(1, 5)\n",
    "\n",
    "\n",
    "print(\"Your Choice: \", user_Pick)\n",
    "print(\"Computer's Choice: \", computer_Pick)\n",
    "\n",
    "\n",
    "if user_Pick == computer_Pick:\n",
    "    print(\"Tie\")\n",
    "elif user_Pick == 1 and (computer_Pick == 2 or computer_Pick == 5):\n",
    "    print(\"Computer Won\")\n",
    "elif user_Pick == 2 and (computer_Pick == 3 or computer_Pick == 4):\n",
    "    print(\"Computer Won\")\n",
    "elif user_Pick == 2 and (computer_Pick == 1 or computer_Pick == 5):\n",
    "    print(\"Computer Won\")\n",
    "elif user_Pick == 3 and (computer_Pick == 1 or computer_Pick == 5):\n",
    "    print(\"Computer Won\")\n",
    "elif user_Pick == 3 and (computer_Pick == 2 or computer_Pick == 4):\n",
    "    print(\"Computer Won\")\n",
    "elif user_Pick == 4 and (computer_Pick == 1 or computer_Pick == 3):\n",
    "    print(\"Computer Won\")\n",
    "elif user_Pick == 4 and (computer_Pick == 2 or computer_Pick == 5):\n",
    "    print(\"Computer Won\")\n",
    "elif user_Pick == 5 and (computer_Pick == 2 or computer_Pick == 4):\n",
    "    print(\"Computer Won\")\n",
    "else:\n",
    "    print(\"You Won\")\n"
   ]
  }
 ],
 "metadata": {
  "kernelspec": {
   "display_name": "Python 3 (ipykernel)",
   "language": "python",
   "name": "python3"
  },
  "language_info": {
   "codemirror_mode": {
    "name": "ipython",
    "version": 3
   },
   "file_extension": ".py",
   "mimetype": "text/x-python",
   "name": "python",
   "nbconvert_exporter": "python",
   "pygments_lexer": "ipython3",
   "version": "3.9.7"
  }
 },
 "nbformat": 4,
 "nbformat_minor": 5
}
