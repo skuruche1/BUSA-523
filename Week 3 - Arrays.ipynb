{
 "cells": [
  {
   "cell_type": "markdown",
   "id": "c73c794f",
   "metadata": {},
   "source": [
    "# BUSA 523\n",
    "\n",
    "## Week 3 - Arrays\n",
    "\n",
    "Numpy is the core library for scientific computing in Python. It provides a high-performance multidimensional array object, and tools for working with these arrays. \n",
    "\n",
    "A numpy array is a grid of values, all of the same type, and is indexed by a tuple of nonnegative integers. The number of dimensions is the **rank** of the array; the **shape** of an array is a tuple of integers giving the size of the array along each dimension.\n",
    "\n",
    "We can initialize numpy arrays from nested Python lists, and access elements using square brackets:"
   ]
  },
  {
   "cell_type": "code",
   "execution_count": null,
   "id": "9382c33f",
   "metadata": {},
   "outputs": [],
   "source": [
    "# Creating an array - from a list, linspace, arange\n",
    "\n",
    "\n",
    "# Create a rank 2 array - linalg.matrix_rank\n",
    "\n"
   ]
  },
  {
   "cell_type": "markdown",
   "id": "5ad16520",
   "metadata": {},
   "source": [
    "Numpy also provides many functions to create arrays:"
   ]
  },
  {
   "cell_type": "code",
   "execution_count": null,
   "id": "39a65aed",
   "metadata": {},
   "outputs": [],
   "source": [
    "# Create an array of all zeros - zeros\n",
    "\n",
    "# Create an array of all ones - ones\n",
    "\n",
    "# Create a constant array - full\n",
    "\n",
    "# Create a 2x2 identity matrix - eye\n",
    "\n",
    "# Create an array filled with random values - random.random\n"
   ]
  },
  {
   "cell_type": "markdown",
   "id": "18ed5996",
   "metadata": {},
   "source": [
    "#### Array/list methods\n",
    "\n",
    "| Method    | Description                                                                  |\n",
    "|-----------|------------------------------------------------------------------------------|\n",
    "| append()  | Adds an element at the end of the list                                       |\n",
    "| clear()   | Removes all the elements from the list                                       |\n",
    "| copy()    | Returns a copy of the list                                                   |\n",
    "| index()   | Returns the index of the first element with the specified value              |\n",
    "| insert()  | Adds an element at the specified position                                    |\n",
    "| pop()     | Removes the element at the specified position                                |\n",
    "| remove()  | Removes the first item with the specified value                              |\n",
    "| reverse() | Reverses the order of the list                                               |\n",
    "| sort()    | Sorts the list                                                               |\n",
    "\n"
   ]
  },
  {
   "cell_type": "code",
   "execution_count": null,
   "id": "240d8aaf",
   "metadata": {},
   "outputs": [],
   "source": [
    "# Examples of using array methods\n"
   ]
  },
  {
   "cell_type": "markdown",
   "id": "c6e43cf2",
   "metadata": {},
   "source": [
    "#### Array indexing\n",
    "\n",
    "Slicing: Similar to Python lists, numpy arrays can be sliced. Since arrays may be multidimensional, you must specify a slice for each dimension of the array:"
   ]
  },
  {
   "cell_type": "code",
   "execution_count": null,
   "id": "ba327f2a",
   "metadata": {},
   "outputs": [],
   "source": [
    "# Example of slicing arrays\n",
    "\n",
    "# first n elements\n",
    "\n",
    "# elements after index \"n\"\n",
    "\n",
    "# middle sub-array\n",
    "\n",
    "# every other element\n",
    "\n",
    "# every other element starting at index 1\n",
    "\n",
    "# all elements, reversed\n",
    "\n",
    "# reversed every other from index 5"
   ]
  },
  {
   "cell_type": "code",
   "execution_count": null,
   "id": "0ca21b49",
   "metadata": {
    "scrolled": true
   },
   "outputs": [],
   "source": [
    "# Multi-dimensional sub-arrays\n",
    "\n",
    "# sub-array with rows and columns\n",
    "\n",
    "# reverse\n",
    "\n",
    "# access row or column\n"
   ]
  },
  {
   "cell_type": "code",
   "execution_count": null,
   "id": "e4395600",
   "metadata": {},
   "outputs": [],
   "source": [
    "# Example of editing array values\n"
   ]
  },
  {
   "cell_type": "markdown",
   "id": "2554bf6f",
   "metadata": {},
   "source": [
    "#### Array operations\n",
    "\n",
    "- addition, subtraction, multiplication, division and square root.\n",
    "- dot poroduct, sum and transpose.\n",
    "\n"
   ]
  },
  {
   "cell_type": "code",
   "execution_count": null,
   "id": "6bd29638",
   "metadata": {},
   "outputs": [],
   "source": [
    "# Example of array operations\n"
   ]
  },
  {
   "cell_type": "code",
   "execution_count": null,
   "id": "cd439b34",
   "metadata": {},
   "outputs": [],
   "source": [
    "# Example of using loops with arrays\n"
   ]
  }
 ],
 "metadata": {
  "kernelspec": {
   "display_name": "Python 3 (ipykernel)",
   "language": "python",
   "name": "python3"
  },
  "language_info": {
   "codemirror_mode": {
    "name": "ipython",
    "version": 3
   },
   "file_extension": ".py",
   "mimetype": "text/x-python",
   "name": "python",
   "nbconvert_exporter": "python",
   "pygments_lexer": "ipython3",
   "version": "3.9.7"
  }
 },
 "nbformat": 4,
 "nbformat_minor": 5
}
