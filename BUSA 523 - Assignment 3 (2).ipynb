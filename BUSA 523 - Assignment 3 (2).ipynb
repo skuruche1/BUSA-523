{
 "cells": [
  {
   "cell_type": "code",
   "execution_count": 1,
   "id": "eae31dc1",
   "metadata": {},
   "outputs": [
    {
     "name": "stdout",
     "output_type": "stream",
     "text": [
      "Hello World!\n"
     ]
    }
   ],
   "source": [
    "print(\"Hello World!\")"
   ]
  },
  {
   "cell_type": "code",
   "execution_count": 33,
   "id": "16d366f5",
   "metadata": {},
   "outputs": [
    {
     "name": "stdout",
     "output_type": "stream",
     "text": [
      "student1: - Good\n",
      "student2: - Average\n"
     ]
    }
   ],
   "source": [
    "# creating student class\n",
    "\n",
    "class Student: \n",
    "     # init method to take values\n",
    "    \n",
    "    def __init__(self,first_name,last_name,country,overall_grade,credits_completed):\n",
    "        self.first_name = first_name\n",
    "        self.last_name = last_name\n",
    "        self.country = country\n",
    "        self.overall_grade = overall_grade\n",
    "        self.credits_completed = credits_completed\n",
    "        \n",
    "    # creating a progress method\n",
    "    def progress(self):\n",
    "        if self.overall_grade > 3.0 and self.credits_completed > 20:\n",
    "            print(\"Good\")\n",
    "        elif self.overall_grade > 2.5 and self.credits_completed <= 20 and self.credits_completed >= 10:\n",
    "            print(\"Average\")\n",
    "        elif self.overall_grade <= 2.5:\n",
    "            print(\"Bad\")\n",
    "    \n",
    "\n",
    "                \n",
    "# student 1 \n",
    "print(\"student1: -\",end=\" \")\n",
    "stud1= Student('rao','smrithi','US',3.5,25);\n",
    "stud1.progress();\n",
    "\n",
    "# student 2\n",
    "print(\"student2: -\",end=\" \")\n",
    "stud2= Student('allen','robert','US',2.8,18);\n",
    "stud2.progress();\n"
   ]
  },
  {
   "cell_type": "code",
   "execution_count": 34,
   "id": "2df7d85f",
   "metadata": {},
   "outputs": [
    {
     "name": "stdout",
     "output_type": "stream",
     "text": [
      "Please enter the size of the list :9\n",
      "Enter the 1th Element : -6\n",
      "Enter the 2th Element : 5\n",
      "Enter the 3th Element : -3\n",
      "Enter the 4th Element : -2\n",
      "Enter the 5th Element : 1\n",
      "Enter the 6th Element : 0\n",
      "Enter the 7th Element : -8\n",
      "Enter the 8th Element : 9\n",
      "Enter the 9th Element : 3\n",
      "[-6, -3, -2, -8] , [5, 1, 9, 3]\n"
     ]
    }
   ],
   "source": [
    "List = []\n",
    "PositiveList = []\n",
    "NegativeList = [] \n",
    "\n",
    "size = int(input(\"Please enter the size of the list :\"))\n",
    "for i in range(1, size + 1):\n",
    "    value = int(input(\"Enter the %dth Element : \" %i)) \n",
    "    List.append(value)\n",
    "    \n",
    "for j in range(size):\n",
    "    if(List[j] >0):\n",
    "        PositiveList.append(List[j])\n",
    "    elif List[j] <0:\n",
    "        NegativeList.append(List[j])\n",
    "        \n",
    "print(NegativeList,\",\",PositiveList)\n",
    "        \n"
   ]
  },
  {
   "cell_type": "code",
   "execution_count": 38,
   "id": "1edc8e18",
   "metadata": {},
   "outputs": [
    {
     "name": "stdout",
     "output_type": "stream",
     "text": [
      "Player's final score: 18\n",
      "[(8, 11), (9, 10), (9, 11), (10, 10), (10, 11)]\n"
     ]
    }
   ],
   "source": [
    "# taking input from the user\n",
    "\n",
    "n= int(input(\"Player's final score: \"))\n",
    "\n",
    "# initializing the cards without face cards\n",
    "\n",
    "cards = [2,3,4,5,6,7,8,9,10,11]\n",
    "\n",
    "output=[]\n",
    "\n",
    "for c1 in cards:\n",
    "    \n",
    "    for c2 in cards:\n",
    "        \n",
    "        if (c1,c2) == (11,11):\n",
    "            \n",
    "            continue\n",
    "            \n",
    "        if c1+c2 > n:\n",
    "            \n",
    "            if (c2,c1) not in output:\n",
    "                \n",
    "                output.append((c1,c2))\n",
    "                \n",
    "                \n",
    "print(output)"
   ]
  },
  {
   "cell_type": "code",
   "execution_count": 86,
   "id": "cd1a4d39",
   "metadata": {},
   "outputs": [
    {
     "name": "stdout",
     "output_type": "stream",
     "text": [
      "Positives: [5, 1, 9, 3]\n",
      "Negatives: [-6, -3, -2, -8]\n"
     ]
    }
   ],
   "source": [
    "def NegPos(numbersList):\n",
    "    positive = [] #1 step O(1)\n",
    "    negative = [] #1 step O(1) \n",
    "    \n",
    "    # Must multiply it by the length of list or O(n)\n",
    "    # Steps will depend on length of list\n",
    "    for num in numbersList:\n",
    "        #\n",
    "        \n",
    "        if num > 0: # 1 step O(1)\n",
    "            positive.append(num) # 1 step O(1)\n",
    "        elif num < 0: # 1 step O(1)\n",
    "            negative.append(num) # 1 step O(1)\n",
    "\n",
    "        \n",
    "    print('Positives:',positive) # 1 step O(1)\n",
    "    print('Negatives:',negative) # 1 step O(1)\n",
    "\n",
    "numbersList= [-6,5,-3,-2,1,0,-8,9,3] # 1 step O(1)\n",
    "NegPos(numbersList)\n",
    "\n",
    "# O(1) + O(1) + O(1) + O(n) + O(1) +O(1)\n",
    "# O(5) + O(n)\n",
    "# Final answer: O(n)"
   ]
  },
  {
   "cell_type": "code",
   "execution_count": 80,
   "id": "4e5532dd",
   "metadata": {},
   "outputs": [
    {
     "name": "stdout",
     "output_type": "stream",
     "text": [
      "Enter score: 18\n",
      "[(8, 11), (9, 10), (9, 11), (10, 10), (10, 11)]\n"
     ]
    }
   ],
   "source": [
    "def possibleWins(finalScore):\n",
    "    \n",
    "    possibilities = [] #1 step O(1)\n",
    "    \n",
    "    # a for loop within a for loop is O(n^2)\n",
    "    for i in range(1,12):\n",
    "        for j in range(1,12):\n",
    "            # the lines of code below are just all O(1)\n",
    "            if ((i+j) > finalScore):\n",
    "                if ((i,j)not in possibilities) and ((j,i) not in possibilities) and ((j,i) != (11,11)) and ((i,j) != (11,11)):\n",
    "                    possibilities.append((i,j))\n",
    "                    \n",
    "    print(possibilities) # 1 step O(1)\n",
    "    \n",
    "finalScore = int(input(\"Enter score: \")) # 1 step O(1)\n",
    "possibleWins(finalScore)\n",
    "\n",
    "# O(1) + O(1) + O(n^2) # O(1)\n",
    "# O(3) + O(n^2)\n",
    "# Final answer: O(n^2)"
   ]
  }
 ],
 "metadata": {
  "kernelspec": {
   "display_name": "Python 3 (ipykernel)",
   "language": "python",
   "name": "python3"
  },
  "language_info": {
   "codemirror_mode": {
    "name": "ipython",
    "version": 3
   },
   "file_extension": ".py",
   "mimetype": "text/x-python",
   "name": "python",
   "nbconvert_exporter": "python",
   "pygments_lexer": "ipython3",
   "version": "3.9.7"
  }
 },
 "nbformat": 4,
 "nbformat_minor": 5
}
