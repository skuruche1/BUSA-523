{
 "cells": [
  {
   "cell_type": "markdown",
   "id": "7cc7372f",
   "metadata": {},
   "source": [
    "# Week 6 - Exploratory Data Analysis\n",
    "\n",
    "- **Exploratory Analysis**\n",
    "    - Outliers\n",
    "    - Correlation\n",
    "    - Skewness\n",
    "    - Standardization and Normalization"
   ]
  },
  {
   "cell_type": "code",
   "execution_count": null,
   "id": "7a36680e",
   "metadata": {},
   "outputs": [],
   "source": [
    "# Load the data\n"
   ]
  },
  {
   "cell_type": "code",
   "execution_count": null,
   "id": "b95c2222",
   "metadata": {},
   "outputs": [],
   "source": [
    "# Summary Statistics\n"
   ]
  },
  {
   "cell_type": "code",
   "execution_count": null,
   "id": "36d0b664",
   "metadata": {
    "scrolled": true
   },
   "outputs": [],
   "source": [
    "# Box plot\n"
   ]
  },
  {
   "cell_type": "code",
   "execution_count": null,
   "id": "10483880",
   "metadata": {},
   "outputs": [],
   "source": [
    "# Removing Outliers\n",
    "\n",
    "# Max = 75% + 1.5* (75% - 25%)\n"
   ]
  },
  {
   "cell_type": "code",
   "execution_count": null,
   "id": "ed724fb1",
   "metadata": {},
   "outputs": [],
   "source": [
    "# Correlation\n"
   ]
  },
  {
   "cell_type": "code",
   "execution_count": null,
   "id": "4751288f",
   "metadata": {},
   "outputs": [],
   "source": [
    "# Visualization - correlation\n"
   ]
  },
  {
   "cell_type": "code",
   "execution_count": null,
   "id": "f1523c5c",
   "metadata": {},
   "outputs": [],
   "source": [
    "# Remove correlated variables\n"
   ]
  },
  {
   "cell_type": "code",
   "execution_count": null,
   "id": "7911e9c4",
   "metadata": {},
   "outputs": [],
   "source": [
    "# Skewness\n"
   ]
  },
  {
   "cell_type": "code",
   "execution_count": null,
   "id": "6f701a3c",
   "metadata": {},
   "outputs": [],
   "source": [
    "# Removing Skewness\n"
   ]
  },
  {
   "cell_type": "markdown",
   "id": "64ae87d8",
   "metadata": {},
   "source": [
    "#### Additional information on transforming skewed data\n",
    "\n",
    "https://opendatascience.com/transforming-skewed-data-for-machine-learning/"
   ]
  },
  {
   "cell_type": "code",
   "execution_count": null,
   "id": "e4baaa93",
   "metadata": {},
   "outputs": [],
   "source": [
    "# Standardization and Normalization - Scikit-learn\n"
   ]
  },
  {
   "cell_type": "code",
   "execution_count": null,
   "id": "f287547e",
   "metadata": {},
   "outputs": [],
   "source": [
    "# Save to .csv\n"
   ]
  },
  {
   "cell_type": "code",
   "execution_count": null,
   "id": "eed5850e",
   "metadata": {},
   "outputs": [],
   "source": []
  }
 ],
 "metadata": {
  "kernelspec": {
   "display_name": "Python 3 (ipykernel)",
   "language": "python",
   "name": "python3"
  },
  "language_info": {
   "codemirror_mode": {
    "name": "ipython",
    "version": 3
   },
   "file_extension": ".py",
   "mimetype": "text/x-python",
   "name": "python",
   "nbconvert_exporter": "python",
   "pygments_lexer": "ipython3",
   "version": "3.9.7"
  }
 },
 "nbformat": 4,
 "nbformat_minor": 5
}
