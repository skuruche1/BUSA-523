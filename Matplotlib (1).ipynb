{
 "cells": [
  {
   "cell_type": "markdown",
   "id": "0ecf5e34",
   "metadata": {},
   "source": [
    "# Week 5 - Data Visualizations\n"
   ]
  },
  {
   "cell_type": "markdown",
   "id": "e724038f",
   "metadata": {},
   "source": [
    "### Data Visualization in Python\n",
    "\n",
    "**Matplotlib** package for visualization in Python. Matplotlib is a multi-platform data visualization library built on NumPy arrays, and designed to work with the broader SciPy stack. It was adopted as the plotting package of choice of the Space Telescope Science Institute (the folks behind the Hubble Telescope), which financially supported Matplotlib’s development and greatly expanded its capabilities.\n",
    "\n",
    "In recent years, however, the interface and style of Matplotlib have begun to show their age. \n",
    "\n",
    "Newer data viz libraries such as **seaborn, plotly and bokeh** often make matplotlib feel old-fashioned. "
   ]
  },
  {
   "cell_type": "code",
   "execution_count": null,
   "id": "bc04b297",
   "metadata": {},
   "outputs": [],
   "source": [
    "# import matplotlib\n",
    "# pip install matplotlib\n"
   ]
  },
  {
   "cell_type": "code",
   "execution_count": null,
   "id": "11beb1c5",
   "metadata": {
    "scrolled": true
   },
   "outputs": [],
   "source": [
    "# Example of plotting data using matplotlib\n",
    "\n"
   ]
  },
  {
   "cell_type": "markdown",
   "id": "35c300a8",
   "metadata": {},
   "source": [
    "**Pandas visualizations:**\n",
    "\n",
    "- dataframe.plot() --> line chart\n",
    "- dataframe.plot.area() --> area chart\n",
    "- dataframe.plot.hist() --> histogram\n",
    "- dataframe.plot.bar() --> bar chart\n",
    "- dataframe.plot.pie(y) --> pie chart \n",
    "- dataframe.plot.scatter(x,y) --> scatter chart\n",
    "- dataframe.plot.kde() --> probability distribution\n",
    "\n",
    "**Attributes:** <br />\n",
    "https://pandas.pydata.org/docs/reference/api/pandas.DataFrame.plot.html"
   ]
  },
  {
   "cell_type": "code",
   "execution_count": null,
   "id": "d6595a8a",
   "metadata": {},
   "outputs": [],
   "source": [
    "# Developing visualizations from DataFrames\n"
   ]
  },
  {
   "cell_type": "markdown",
   "id": "98773c98",
   "metadata": {},
   "source": [
    "**Using Style sheets:** plt.style.use(' ') <br />\n",
    "https://matplotlib.org/stable/gallery/style_sheets/style_sheets_reference.html \n"
   ]
  },
  {
   "cell_type": "code",
   "execution_count": null,
   "id": "4b4dc6f1",
   "metadata": {},
   "outputs": [],
   "source": [
    "# Using style sheets\n"
   ]
  }
 ],
 "metadata": {
  "kernelspec": {
   "display_name": "Python 3 (ipykernel)",
   "language": "python",
   "name": "python3"
  },
  "language_info": {
   "codemirror_mode": {
    "name": "ipython",
    "version": 3
   },
   "file_extension": ".py",
   "mimetype": "text/x-python",
   "name": "python",
   "nbconvert_exporter": "python",
   "pygments_lexer": "ipython3",
   "version": "3.9.7"
  }
 },
 "nbformat": 4,
 "nbformat_minor": 5
}
