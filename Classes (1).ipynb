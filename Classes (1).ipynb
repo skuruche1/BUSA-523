{
 "cells": [
  {
   "cell_type": "markdown",
   "id": "afb74339",
   "metadata": {},
   "source": [
    "# BUSA 523 - Week 4\n",
    "\n",
    "#### Object oriented programming - Classes & Objects\n",
    "\n",
    "- A **class** is an abstract blueprint used to create more specific, concrete objects. \n",
    "\n",
    "- An **object** is an instance of the class.\n",
    "\n",
    "Classes can also contain functions, called methods available only to objects of that type. These functions are defined within the class and perform some action helpful to that specific type of object.\n",
    "\n",
    "#### Defining a Class:\n",
    "\n",
    "`class Client(object):` <br>\n",
    "\n",
    " &emsp; &emsp;  `def __init__(self, args[, ...])` <br>\n",
    " \n",
    " &emsp; &emsp; &emsp; &emsp;  `...more code` <br> "
   ]
  },
  {
   "cell_type": "code",
   "execution_count": null,
   "id": "d46de540",
   "metadata": {},
   "outputs": [],
   "source": [
    "# Create a class\n"
   ]
  },
  {
   "cell_type": "code",
   "execution_count": null,
   "id": "aa815734",
   "metadata": {},
   "outputs": [],
   "source": [
    "# Create an instance of the class\n"
   ]
  },
  {
   "cell_type": "markdown",
   "id": "cf4f95ae",
   "metadata": {},
   "source": [
    "#### Constructor Methods\n",
    "\n",
    "`def __init__` is what we use when creating classes to define how we can create a new instance of this class. The arguments of `__init__` are required input when creating a new instance of this class, except for 'self'.\n",
    "\n",
    "**\"self\"** - refers to the current instance of the class."
   ]
  },
  {
   "cell_type": "code",
   "execution_count": null,
   "id": "eb7b4dbf",
   "metadata": {},
   "outputs": [],
   "source": [
    "# Example of Constructor method\n"
   ]
  },
  {
   "cell_type": "code",
   "execution_count": null,
   "id": "92e3170f",
   "metadata": {},
   "outputs": [],
   "source": [
    "# Add or remove properties\n"
   ]
  },
  {
   "cell_type": "markdown",
   "id": "84c821bd",
   "metadata": {},
   "source": [
    "#### Methods\n",
    " `def` Methods are functions that can be applied (only) to instances of your class."
   ]
  },
  {
   "cell_type": "code",
   "execution_count": null,
   "id": "8df545ca",
   "metadata": {},
   "outputs": [],
   "source": [
    "# Functions/methods in classes\n"
   ]
  }
 ],
 "metadata": {
  "kernelspec": {
   "display_name": "Python 3 (ipykernel)",
   "language": "python",
   "name": "python3"
  },
  "language_info": {
   "codemirror_mode": {
    "name": "ipython",
    "version": 3
   },
   "file_extension": ".py",
   "mimetype": "text/x-python",
   "name": "python",
   "nbconvert_exporter": "python",
   "pygments_lexer": "ipython3",
   "version": "3.9.7"
  }
 },
 "nbformat": 4,
 "nbformat_minor": 5
}
