{
 "cells": [
  {
   "cell_type": "markdown",
   "id": "07bc7a75",
   "metadata": {},
   "source": [
    "# Week 5 - Data manipulation"
   ]
  },
  {
   "cell_type": "markdown",
   "id": "e01b0f82",
   "metadata": {},
   "source": [
    "### Installing libraries in Python\n",
    "\n",
    "**Module** - file with functions, variables, classes and statements <br />\n",
    "**Package** - directory of modules <br />\n",
    "**Library** - collection of packages\n",
    "\n",
    "Mac --> https://docs.python-guide.org/starting/install3/osx/<br />\n",
    "Windows --> https://docs.anaconda.com/anaconda/user-guide/tasks/install-packages/\n",
    "\n",
    "- pip install package\n",
    "- conda install package"
   ]
  },
  {
   "cell_type": "markdown",
   "id": "91c1b920",
   "metadata": {},
   "source": [
    "### Pandas\n",
    "\n",
    "Pandas is a newer package built on top of NumPy, and provides an efficient implementation of a **DataFrame**. DataFrames are essentially multidimensional arrays with attached row and column labels, and often with heterogeneous types and/or missing data. As well as offering a convenient storage interface for labeled data, Pandas implements a number of powerful data operations familiar to users of both database frameworks and spreadsheet programs.\n",
    "\n",
    "Pandas, and in particular its Series and DataFrame objects, builds on the NumPy array structure and provides efficient access to these sorts of \"data munging\" tasks that occupy much of a data scientist's time."
   ]
  },
  {
   "cell_type": "markdown",
   "id": "5392dcc1",
   "metadata": {},
   "source": [
    "### Series object"
   ]
  },
  {
   "cell_type": "code",
   "execution_count": null,
   "id": "38f1c8c3",
   "metadata": {},
   "outputs": [],
   "source": [
    "# Example of series object\n"
   ]
  },
  {
   "cell_type": "markdown",
   "id": "8e6df071",
   "metadata": {},
   "source": [
    "### Import data\n",
    "\n",
    "- read_csv\n",
    "- read_excel\n",
    "\n"
   ]
  },
  {
   "cell_type": "code",
   "execution_count": null,
   "id": "8e6ad32d",
   "metadata": {},
   "outputs": [],
   "source": [
    "# Example of importing data (births.csv)\n",
    "\n"
   ]
  },
  {
   "cell_type": "code",
   "execution_count": null,
   "id": "cda37a5d",
   "metadata": {},
   "outputs": [],
   "source": [
    "# Importing an excel file (sales.xls)\n",
    "\n"
   ]
  },
  {
   "cell_type": "markdown",
   "id": "05693707",
   "metadata": {},
   "source": [
    "### Missing values\n",
    "\n",
    "- Detecting null values (isna)\n",
    "- Drop null values (dropna)\n",
    "- Filling null values (fillna)"
   ]
  },
  {
   "cell_type": "code",
   "execution_count": null,
   "id": "cef9da33",
   "metadata": {},
   "outputs": [],
   "source": [
    "# Example of identifying missing values\n",
    "\n"
   ]
  },
  {
   "cell_type": "code",
   "execution_count": null,
   "id": "130b3999",
   "metadata": {},
   "outputs": [],
   "source": [
    "# Example of dropping values\n"
   ]
  },
  {
   "cell_type": "markdown",
   "id": "762921d0",
   "metadata": {},
   "source": [
    "### Dataframe object\n",
    "\n",
    "**Series** - analog of a 1D array <br />\n",
    "**Dataframe** - analog of a 2D array (multiple columns having the same index)"
   ]
  },
  {
   "cell_type": "code",
   "execution_count": null,
   "id": "740927ba",
   "metadata": {},
   "outputs": [],
   "source": [
    "# Example of a DataFrame\n"
   ]
  },
  {
   "cell_type": "markdown",
   "id": "c1be43e8",
   "metadata": {},
   "source": [
    "### Operations with Dataframe and Series\n",
    "\n",
    "- append\n",
    "- dataframe --> array or a list\n",
    "- tranpose"
   ]
  },
  {
   "cell_type": "code",
   "execution_count": null,
   "id": "0e6732e1",
   "metadata": {},
   "outputs": [],
   "source": [
    "# Example of operations\n",
    "\n"
   ]
  },
  {
   "cell_type": "markdown",
   "id": "f391fd0e",
   "metadata": {},
   "source": [
    "### Indexing Dataframes and Series\n",
    "\n",
    "- **loc**: references the explicit index (as in the dataframe)\n",
    "- **iloc**: python style reference"
   ]
  },
  {
   "cell_type": "code",
   "execution_count": null,
   "id": "eb07b1dd",
   "metadata": {},
   "outputs": [],
   "source": [
    "# Example of indexing\n",
    "\n"
   ]
  }
 ],
 "metadata": {
  "kernelspec": {
   "display_name": "Python 3 (ipykernel)",
   "language": "python",
   "name": "python3"
  },
  "language_info": {
   "codemirror_mode": {
    "name": "ipython",
    "version": 3
   },
   "file_extension": ".py",
   "mimetype": "text/x-python",
   "name": "python",
   "nbconvert_exporter": "python",
   "pygments_lexer": "ipython3",
   "version": "3.9.7"
  }
 },
 "nbformat": 4,
 "nbformat_minor": 5
}
